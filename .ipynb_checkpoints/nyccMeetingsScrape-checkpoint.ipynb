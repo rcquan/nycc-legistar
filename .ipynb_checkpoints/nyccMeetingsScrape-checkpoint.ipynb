{
 "metadata": {
  "name": ""
 },
 "nbformat": 3,
 "nbformat_minor": 0,
 "worksheets": [
  {
   "cells": [
    {
     "cell_type": "code",
     "collapsed": false,
     "input": [
      "from bs4 import BeautifulSoup\n",
      "import csv\n",
      "\n",
      "# Create .csv file with headers\n",
      "f=csv.writer(open(\"nyccMeetings.csv\",\"w\"))\n",
      "f.writerow([\"Name\", \"Date\", \"Time\", \"Location\", \"Topic\"])\n",
      "\n",
      "# Use python html parser to avoid truncation\n",
      "htmlContent = open(\"nyccMeetings.html\")\n",
      "soup = BeautifulSoup(htmlContent,\"html.parser\")\n",
      "\n",
      "# Find each row\n",
      "rows = soup.find_all('tr')\n",
      "for tr in rows:\n",
      "    cols = tr.find_all('td') # Find each column\n",
      "    try:\n",
      "        names = cols[0].get_text().encode('utf-8')\n",
      "        date = cols[1].get_text().encode('utf-8')\n",
      "        time = cols[2].get_text().encode('utf-8')\n",
      "        location = cols[3].get_text().encode('utf-8')\n",
      "        topic = cols[4].get_text().encode('utf-8')\n",
      "    except:\n",
      "        continue\n",
      "    # Write to .csv file\n",
      "    f.writerow([names, date, time, location, topic])"
     ],
     "language": "python",
     "metadata": {},
     "outputs": [],
     "prompt_number": 34
    },
    {
     "cell_type": "code",
     "collapsed": false,
     "input": [],
     "language": "python",
     "metadata": {},
     "outputs": []
    }
   ],
   "metadata": {}
  }
 ]
}